{
  "nbformat": 4,
  "nbformat_minor": 0,
  "metadata": {
    "colab": {
      "provenance": []
    },
    "kernelspec": {
      "name": "python3",
      "display_name": "Python 3"
    },
    "language_info": {
      "name": "python"
    },
    "accelerator": "GPU",
    "gpuClass": "standard"
  },
  "cells": [
    {
      "cell_type": "markdown",
      "source": [
        "# FashionMNIST prediction using a basic neural network"
      ],
      "metadata": {
        "id": "D-VEbHJAacGr"
      }
    },
    {
      "cell_type": "code",
      "execution_count": null,
      "metadata": {
        "id": "GlCIT7IJ2L0K"
      },
      "outputs": [],
      "source": [
        "# Importing important libraries\n",
        "import numpy as np\n",
        "import torch\n",
        "import torchvision"
      ]
    },
    {
      "cell_type": "markdown",
      "source": [
        "Downloading the MNIST fashion data"
      ],
      "metadata": {
        "id": "Erhd8oRVawue"
      }
    },
    {
      "cell_type": "code",
      "source": [
        "trainingdata = torchvision.datasets.FashionMNIST('./FashionMNIST/',train=True,download=True,transform=torchvision.transforms.ToTensor())\n",
        "testdata = torchvision.datasets.FashionMNIST('./FashionMNIST/',train=False,download=True,transform=torchvision.transforms.ToTensor())\n"
      ],
      "metadata": {
        "id": "q4j1iTpV3htP",
        "colab": {
          "base_uri": "https://localhost:8080/"
        },
        "outputId": "dae14ccf-eae2-472f-93b5-5330f27187be"
      },
      "execution_count": null,
      "outputs": [
        {
          "output_type": "stream",
          "name": "stdout",
          "text": [
            "Downloading http://fashion-mnist.s3-website.eu-central-1.amazonaws.com/train-images-idx3-ubyte.gz\n",
            "Downloading http://fashion-mnist.s3-website.eu-central-1.amazonaws.com/train-images-idx3-ubyte.gz to ./FashionMNIST/FashionMNIST/raw/train-images-idx3-ubyte.gz\n"
          ]
        },
        {
          "output_type": "stream",
          "name": "stderr",
          "text": [
            "100%|██████████| 26421880/26421880 [00:02<00:00, 10022003.18it/s]\n"
          ]
        },
        {
          "output_type": "stream",
          "name": "stdout",
          "text": [
            "Extracting ./FashionMNIST/FashionMNIST/raw/train-images-idx3-ubyte.gz to ./FashionMNIST/FashionMNIST/raw\n",
            "\n",
            "Downloading http://fashion-mnist.s3-website.eu-central-1.amazonaws.com/train-labels-idx1-ubyte.gz\n",
            "Downloading http://fashion-mnist.s3-website.eu-central-1.amazonaws.com/train-labels-idx1-ubyte.gz to ./FashionMNIST/FashionMNIST/raw/train-labels-idx1-ubyte.gz\n"
          ]
        },
        {
          "output_type": "stream",
          "name": "stderr",
          "text": [
            "100%|██████████| 29515/29515 [00:00<00:00, 170693.64it/s]\n"
          ]
        },
        {
          "output_type": "stream",
          "name": "stdout",
          "text": [
            "Extracting ./FashionMNIST/FashionMNIST/raw/train-labels-idx1-ubyte.gz to ./FashionMNIST/FashionMNIST/raw\n",
            "\n",
            "Downloading http://fashion-mnist.s3-website.eu-central-1.amazonaws.com/t10k-images-idx3-ubyte.gz\n",
            "Downloading http://fashion-mnist.s3-website.eu-central-1.amazonaws.com/t10k-images-idx3-ubyte.gz to ./FashionMNIST/FashionMNIST/raw/t10k-images-idx3-ubyte.gz\n"
          ]
        },
        {
          "output_type": "stream",
          "name": "stderr",
          "text": [
            "100%|██████████| 4422102/4422102 [00:01<00:00, 3173934.78it/s]\n"
          ]
        },
        {
          "output_type": "stream",
          "name": "stdout",
          "text": [
            "Extracting ./FashionMNIST/FashionMNIST/raw/t10k-images-idx3-ubyte.gz to ./FashionMNIST/FashionMNIST/raw\n",
            "\n",
            "Downloading http://fashion-mnist.s3-website.eu-central-1.amazonaws.com/t10k-labels-idx1-ubyte.gz\n",
            "Downloading http://fashion-mnist.s3-website.eu-central-1.amazonaws.com/t10k-labels-idx1-ubyte.gz to ./FashionMNIST/FashionMNIST/raw/t10k-labels-idx1-ubyte.gz\n"
          ]
        },
        {
          "output_type": "stream",
          "name": "stderr",
          "text": [
            "100%|██████████| 5148/5148 [00:00<00:00, 20862103.37it/s]"
          ]
        },
        {
          "output_type": "stream",
          "name": "stdout",
          "text": [
            "Extracting ./FashionMNIST/FashionMNIST/raw/t10k-labels-idx1-ubyte.gz to ./FashionMNIST/FashionMNIST/raw\n",
            "\n"
          ]
        },
        {
          "output_type": "stream",
          "name": "stderr",
          "text": [
            "\n"
          ]
        }
      ]
    },
    {
      "cell_type": "code",
      "source": [
        "print(len(trainingdata))\n",
        "print(len(testdata))"
      ],
      "metadata": {
        "colab": {
          "base_uri": "https://localhost:8080/"
        },
        "id": "22dRVEKY3z37",
        "outputId": "6fb0036c-331c-4ecd-9156-5ce24169ee44"
      },
      "execution_count": null,
      "outputs": [
        {
          "output_type": "stream",
          "name": "stdout",
          "text": [
            "60000\n",
            "10000\n"
          ]
        }
      ]
    },
    {
      "cell_type": "markdown",
      "source": [
        "Characteristics of the input image (all dimensions):"
      ],
      "metadata": {
        "id": "Q-3szl4wa2BV"
      }
    },
    {
      "cell_type": "code",
      "source": [
        "image, label = trainingdata[0]\n",
        "print(image.shape, label)"
      ],
      "metadata": {
        "colab": {
          "base_uri": "https://localhost:8080/"
        },
        "id": "bf0Snhu-4A_c",
        "outputId": "3196690b-83ba-482e-d523-8063d6033efa"
      },
      "execution_count": null,
      "outputs": [
        {
          "output_type": "stream",
          "name": "stdout",
          "text": [
            "torch.Size([1, 28, 28]) 9\n"
          ]
        }
      ]
    },
    {
      "cell_type": "markdown",
      "source": [
        "We use the squeeze function to get rid of the first dimension. :"
      ],
      "metadata": {
        "id": "pWzhVnwN4Img"
      }
    },
    {
      "cell_type": "code",
      "source": [
        "print(image.squeeze().shape)"
      ],
      "metadata": {
        "colab": {
          "base_uri": "https://localhost:8080/"
        },
        "id": "STrrNZFf2uYg",
        "outputId": "21b0f608-2ae3-4346-a1d9-40386b07569c"
      },
      "execution_count": null,
      "outputs": [
        {
          "output_type": "stream",
          "name": "stdout",
          "text": [
            "torch.Size([28, 28])\n"
          ]
        }
      ]
    },
    {
      "cell_type": "code",
      "source": [
        "import matplotlib.pyplot as plt\n",
        "%matplotlib inline\n",
        "plt.imshow(image.squeeze(), cmap=plt.cm.gray)"
      ],
      "metadata": {
        "colab": {
          "base_uri": "https://localhost:8080/",
          "height": 447
        },
        "id": "XSoAec0d4H2j",
        "outputId": "8753af4e-7265-42ae-e72c-f0aba5bc031e"
      },
      "execution_count": null,
      "outputs": [
        {
          "output_type": "execute_result",
          "data": {
            "text/plain": [
              "<matplotlib.image.AxesImage at 0x7babc5a8f220>"
            ]
          },
          "metadata": {},
          "execution_count": 6
        },
        {
          "output_type": "display_data",
          "data": {
            "text/plain": [
              "<Figure size 640x480 with 1 Axes>"
            ],
            "image/png": "[encoded data removed]"
          },
          "metadata": {}
        }
      ]
    },
    {
      "cell_type": "code",
      "source": [
        "trainDataLoader = torch.utils.data.DataLoader(trainingdata,batch_size=64,shuffle=True)\n",
        "testDataLoader = torch.utils.data.DataLoader(testdata,batch_size=64,shuffle=False)"
      ],
      "metadata": {
        "id": "zrqhfhQ94h9F"
      },
      "execution_count": null,
      "outputs": []
    },
    {
      "cell_type": "markdown",
      "source": [
        "Let's also check the length of the train and test dataloader"
      ],
      "metadata": {
        "id": "IaNv97ra250d"
      }
    },
    {
      "cell_type": "code",
      "source": [
        "print(len(trainDataLoader))\n",
        "print(len(testDataLoader))"
      ],
      "metadata": {
        "colab": {
          "base_uri": "https://localhost:8080/"
        },
        "id": "t8HqOFhb3Ajp",
        "outputId": "7f225036-86a3-4cca-955e-52159d0bbf75"
      },
      "execution_count": null,
      "outputs": [
        {
          "output_type": "stream",
          "name": "stdout",
          "text": [
            "938\n",
            "157\n"
          ]
        }
      ]
    },
    {
      "cell_type": "markdown",
      "source": [
        "Below are some images from our training dataset along with  the true labels. T-shirt/top - 0 Trouser - 1 Pullover - 2, Dress - 3, Coat - 4, Sandal - 5 Shirt - 6 Sneaker- 7 Bag - 8 Ankle boot - 9\n",
        "\n",
        ":"
      ],
      "metadata": {
        "id": "NVuqQggUZ691"
      }
    },
    {
      "cell_type": "code",
      "source": [
        "images, labels = next(iter(trainDataLoader))\n",
        "\n",
        "plt.figure(figsize=(10,4))\n",
        "for index in np.arange(0,5):\n",
        "  plt.subplot(1,5,index+1)\n",
        "  plt.title(f'Label: {labels[index].item()}')\n",
        "  plt.imshow(images[index].squeeze(),cmap=plt.cm.gray)"
      ],
      "metadata": {
        "colab": {
          "base_uri": "https://localhost:8080/",
          "height": 216
        },
        "id": "da5yKkMo4zKz",
        "outputId": "2f2bc4d3-8b16-47f4-eeaa-9bc16046a915"
      },
      "execution_count": null,
      "outputs": [
        {
          "output_type": "display_data",
          "data": {
            "text/plain": [
              "<Figure size 1000x400 with 5 Axes>"
            ],
            "image/png": "[encoded data removed]"
          },
          "metadata": {}
        }
      ]
    },
    {
      "cell_type": "markdown",
      "source": [],
      "metadata": {
        "id": "b5T92I6vZ58c"
      }
    },
    {
      "cell_type": "markdown",
      "source": [
        "Now let's set up our model."
      ],
      "metadata": {
        "id": "VGyspXXr5FUk"
      }
    },
    {
      "cell_type": "markdown",
      "source": [
        "# Defining the neural network\n",
        "\n",
        "We define the neural network as desired in the question.\n",
        "\n",
        "The first hidden layer takes a 28*28 input, and has 256 neurons. The second hidden layer takes these 256 inputs and has 128 neurons, thus producing 128 outputs. The last hidden layer takes these 128 inputs and has 64 neurons, therefore 64 outputs.\n",
        "\n",
        "The last (output) layer has 10 outputs, corresponding to the 10 labels in the MNIST dataset i.e.:\n",
        "T-shirt/top,\n",
        "Trouser,\n",
        "Pullover,\n",
        "Dress,\n",
        "Coat,\n",
        "Sandal,\n",
        "Shirt,\n",
        "Sneaker,\n",
        "Bag, and\n",
        "Ankle boot.\n",
        "\n",
        "\n",
        "As desired in the question, relu activation functions have been defined at every layer in our forward() function."
      ],
      "metadata": {
        "id": "UkuFsUohTKLV"
      }
    },
    {
      "cell_type": "code",
      "source": [
        "class New_Dense_Network(torch.nn.Module):\n",
        "    def __init__(self):\n",
        "        super(New_Dense_Network, self).__init__()\n",
        "        self.hidden_layer_1 = torch.nn.Linear(28*28, 256)\n",
        "        self.hidden_layer_2 = torch.nn.Linear(256, 128)\n",
        "        self.hidden_layer_3 = torch.nn.Linear(128, 64)\n",
        "        self.output_layer = torch.nn.Linear(64, 10)\n",
        "        self.relu = torch.nn.ReLU()\n",
        "\n",
        "    def forward(self, x):\n",
        "        x = x.view(-1, 28*28)\n",
        "        x = self.relu(self.hidden_layer_1(x))\n",
        "        x = self.relu(self.hidden_layer_2(x))\n",
        "        x = self.relu(self.hidden_layer_3(x))\n",
        "        x = self.output_layer(x)\n",
        "        return x"
      ],
      "metadata": {
        "id": "zFXLuT6rJFn1"
      },
      "execution_count": null,
      "outputs": []
    },
    {
      "cell_type": "markdown",
      "source": [
        "Now let's train our model!"
      ],
      "metadata": {
        "id": "r6s7Ecae5tIU"
      }
    },
    {
      "cell_type": "markdown",
      "source": [
        "# EPOCH number choice\n",
        "\n",
        "I trained the models with 20 epochs, just like the demo. I thought increasing the number of epochs would increase the accuracy (maybe), so i trained the model over 35 epochs. However, I saw a peak at 29/30 epochs and thus chose to keep my model trained at 30 epochs.\n",
        "\n"
      ],
      "metadata": {
        "id": "cT0op4IASMVe"
      }
    },
    {
      "cell_type": "markdown",
      "source": [
        "# Test Accuracy\n",
        "\n",
        "I retrieved the total number of correct (true negatives and positives) predictions and appended a new array, test_accuracy_history , at every epoch."
      ],
      "metadata": {
        "id": "7yOauQHHU4rV"
      }
    },
    {
      "cell_type": "code",
      "source": [
        "model = New_Dense_Network().cuda() #loading our new model\n",
        "loss = torch.nn.CrossEntropyLoss()\n",
        "optimizer = torch.optim.SGD(model.parameters(), lr=0.01)\n",
        "\n",
        "train_loss_history = []\n",
        "test_loss_history = []\n",
        "test_accuracy_history = []\n",
        "\n",
        "\n",
        "for epoch in range(30):\n",
        "    train_loss = 0.0\n",
        "    test_loss = 0.0\n",
        "    correct_labels = 0\n",
        "    total = 0\n",
        "\n",
        "    model.train()\n",
        "    for i, data in enumerate(trainDataLoader):\n",
        "        images, labels = data\n",
        "        images = images.cuda()\n",
        "        labels = labels.cuda()\n",
        "        optimizer.zero_grad()\n",
        "        predicted_output = model(images)\n",
        "        fit = loss(predicted_output, labels)\n",
        "        fit.backward()\n",
        "        optimizer.step()\n",
        "        train_loss += fit.item()\n",
        "\n",
        "    model.eval()\n",
        "    for i, data in enumerate(testDataLoader):\n",
        "        with torch.no_grad():\n",
        "            images, labels = data\n",
        "            images = images.cuda()\n",
        "            labels = labels.cuda()\n",
        "            predicted_output = model(images)\n",
        "            fit = loss(predicted_output, labels)\n",
        "            test_loss += fit.item()\n",
        "            _, predicted = torch.max(predicted_output, 1)\n",
        "            total += labels.size(0)\n",
        "            correct_labels += (predicted == labels).sum().item()\n",
        "\n",
        "    train_loss = train_loss / len(trainDataLoader)\n",
        "    test_loss = test_loss / len(testDataLoader)\n",
        "    test_accuracy = correct_labels / total\n",
        "    train_loss_history += [train_loss]\n",
        "    test_loss_history += [test_loss]\n",
        "    test_accuracy_history += [test_accuracy]\n",
        "    test_accuracy_history.append(test_accuracy)\n",
        "    print(f'Epoch {epoch}, Train loss {train_loss}, Test loss {test_loss}, Test accuracy {test_accuracy}')\n"
      ],
      "metadata": {
        "colab": {
          "base_uri": "https://localhost:8080/"
        },
        "id": "8vGgZop05u2B",
        "outputId": "0d05597a-f548-48bc-a14d-1ba7060b6d61"
      },
      "execution_count": null,
      "outputs": [
        {
          "output_type": "stream",
          "name": "stdout",
          "text": [
            "Epoch 0, Train loss 1.8653960180943454, Test loss 1.0927115648415437, Test accuracy 0.6102\n",
            "Epoch 1, Train loss 0.8410240818442566, Test loss 0.7308542859402432, Test accuracy 0.7393\n",
            "Epoch 2, Train loss 0.6592642420581155, Test loss 0.6488540550326086, Test accuracy 0.7699\n",
            "Epoch 3, Train loss 0.5862462328695285, Test loss 0.6341750682539241, Test accuracy 0.7688\n",
            "Epoch 4, Train loss 0.5410707867952552, Test loss 0.5640777315303778, Test accuracy 0.7986\n",
            "Epoch 5, Train loss 0.5104423797429244, Test loss 0.5137617103992753, Test accuracy 0.8176\n",
            "Epoch 6, Train loss 0.4850423803239235, Test loss 0.5043912964641668, Test accuracy 0.8217\n",
            "Epoch 7, Train loss 0.46477465971764215, Test loss 0.49199072323786985, Test accuracy 0.8223\n",
            "Epoch 8, Train loss 0.4488295246320747, Test loss 0.47844716109287966, Test accuracy 0.829\n",
            "Epoch 9, Train loss 0.4346655443755548, Test loss 0.46869131514600887, Test accuracy 0.8368\n",
            "Epoch 10, Train loss 0.42131945273197535, Test loss 0.4644068869625687, Test accuracy 0.8326\n",
            "Epoch 11, Train loss 0.41301569418866496, Test loss 0.44697268326191386, Test accuracy 0.8412\n",
            "Epoch 12, Train loss 0.40055497068522583, Test loss 0.43641866639161564, Test accuracy 0.8469\n",
            "Epoch 13, Train loss 0.3911226172564126, Test loss 0.44853661043249116, Test accuracy 0.8374\n",
            "Epoch 14, Train loss 0.38315433821380773, Test loss 0.41775090479926696, Test accuracy 0.8524\n",
            "Epoch 15, Train loss 0.3741073262478624, Test loss 0.42570216023618246, Test accuracy 0.8502\n",
            "Epoch 16, Train loss 0.36670078990905525, Test loss 0.4138621088046177, Test accuracy 0.854\n",
            "Epoch 17, Train loss 0.35884874706456404, Test loss 0.4196051352532806, Test accuracy 0.849\n",
            "Epoch 18, Train loss 0.3516167884013419, Test loss 0.40935386451566297, Test accuracy 0.8579\n",
            "Epoch 19, Train loss 0.34608973356198147, Test loss 0.42952413040741233, Test accuracy 0.8495\n",
            "Epoch 20, Train loss 0.33791157166396124, Test loss 0.3862884788756158, Test accuracy 0.8639\n",
            "Epoch 21, Train loss 0.3322215971312543, Test loss 0.38308598594680715, Test accuracy 0.8642\n",
            "Epoch 22, Train loss 0.3264842377717434, Test loss 0.40233176320221775, Test accuracy 0.8534\n",
            "Epoch 23, Train loss 0.3207458560464225, Test loss 0.3756861219740218, Test accuracy 0.8684\n",
            "Epoch 24, Train loss 0.31516889674164084, Test loss 0.3717125619103195, Test accuracy 0.8696\n",
            "Epoch 25, Train loss 0.3099862571511823, Test loss 0.3872511775060824, Test accuracy 0.8657\n",
            "Epoch 26, Train loss 0.3052925711739927, Test loss 0.4037045270774015, Test accuracy 0.8532\n",
            "Epoch 27, Train loss 0.30050707264527327, Test loss 0.41754572624993175, Test accuracy 0.8561\n",
            "Epoch 28, Train loss 0.2960377533489199, Test loss 0.36900869998962255, Test accuracy 0.8684\n",
            "Epoch 29, Train loss 0.29134998558712666, Test loss 0.3613410442118432, Test accuracy 0.8717\n"
          ]
        }
      ]
    },
    {
      "cell_type": "markdown",
      "source": [
        "As we can see, the accuracy is now 87.17%, which is pretty good."
      ],
      "metadata": {
        "id": "AbTycc3cSmJG"
      }
    },
    {
      "cell_type": "markdown",
      "source": [
        "Let's plot our loss by training epoch to see how we did."
      ],
      "metadata": {
        "id": "fh-rlPJ46-yj"
      }
    },
    {
      "cell_type": "markdown",
      "source": [
        "Since we have 30 epochs now, the X axis range is 0 to 30.\n",
        "\n",
        "\n",
        "\n"
      ],
      "metadata": {
        "id": "dPwAEju-Zlhv"
      }
    },
    {
      "cell_type": "code",
      "source": [
        "plt.plot(range(30),train_loss_history,'-',linewidth=3,label='Train error')\n",
        "plt.plot(range(30),test_loss_history,'-',linewidth=3,label='Test error')\n",
        "plt.xlabel('epoch')\n",
        "plt.ylabel('loss')\n",
        "plt.grid(True)\n",
        "plt.legend()\n",
        "plt.show()"
      ],
      "metadata": {
        "colab": {
          "base_uri": "https://localhost:8080/",
          "height": 449
        },
        "id": "vP9KBzxz7Bif",
        "outputId": "60a16af8-f290-48e1-a66e-8fac3a01337e"
      },
      "execution_count": null,
      "outputs": [
        {
          "output_type": "display_data",
          "data": {
            "text/plain": [
              "<Figure size 640x480 with 1 Axes>"
            ],
            "image/png": "[encoded data removed]"
          },
          "metadata": {}
        }
      ]
    },
    {
      "cell_type": "markdown",
      "source": [
        "Now for the labels and predicted labels."
      ],
      "metadata": {
        "id": "j4ZJAue77Oa4"
      }
    },
    {
      "cell_type": "code",
      "source": [
        "predicted_outputs = model(images)\n",
        "predicted_classes = torch.max(predicted_outputs, 1)[1]\n",
        "print('Predicted:', predicted_classes)\n",
        "fit = loss(predicted_output, labels)\n",
        "print('True labels:', labels)\n",
        "print(fit.item())"
      ],
      "metadata": {
        "colab": {
          "base_uri": "https://localhost:8080/"
        },
        "id": "PWAHUPQf7Nuj",
        "outputId": "460cc10f-c61a-4233-ef69-f5025580c743"
      },
      "execution_count": null,
      "outputs": [
        {
          "output_type": "stream",
          "name": "stdout",
          "text": [
            "Predicted: tensor([3, 1, 7, 5, 8, 4, 5, 6, 8, 9, 1, 9, 1, 8, 1, 5], device='cuda:0')\n",
            "True labels: tensor([3, 2, 7, 5, 8, 4, 5, 6, 8, 9, 1, 9, 1, 8, 1, 5], device='cuda:0')\n",
            "0.16433967649936676\n"
          ]
        }
      ]
    },
    {
      "cell_type": "markdown",
      "source": [
        "# Predicted v/s true label loss\n",
        "\n",
        "We can see that the prediction loss using this model has decreased by half compared to 0.322, the prediction loss for our previous model based on linear regression.\n",
        "\n",
        "Except for 1 sample out of the 16 samples in this batch of 16 images, the others are predicted correctly.\n",
        "\n",
        "Therefore, converting this model into a Dense Neural Network helped us increase accuracy and decrease prediction loss."
      ],
      "metadata": {
        "id": "do7i0YrsY14h"
      }
    },
    {
      "cell_type": "markdown",
      "source": [
        "# LABELS\n",
        "\n",
        "T-shirt/top - 0\n",
        "Trouser - 1\n",
        "Pullover - 2,\n",
        "Dress - 3,\n",
        "Coat - 4,\n",
        "Sandal - 5\n",
        "Shirt - 6\n",
        "Sneaker- 7\n",
        "Bag - 8\n",
        "Ankle boot - 9\n",
        "\n",
        "So total 10 classes"
      ],
      "metadata": {
        "id": "-tsARmZHXmZ1"
      }
    },
    {
      "cell_type": "code",
      "source": [
        "plt.imshow(images[1].squeeze().cpu(), cmap=plt.cm.gray)\n",
        "plt.title(f'Pred: {predicted_classes[1].item()}, True: {labels[1].item()}')"
      ],
      "metadata": {
        "colab": {
          "base_uri": "https://localhost:8080/",
          "height": 469
        },
        "id": "fODInaCcLBIF",
        "outputId": "a36cc610-91d8-4648-bb97-72e583101eca"
      },
      "execution_count": null,
      "outputs": [
        {
          "output_type": "execute_result",
          "data": {
            "text/plain": [
              "Text(0.5, 1.0, 'Pred: 1, True: 2')"
            ]
          },
          "metadata": {},
          "execution_count": 37
        },
        {
          "output_type": "display_data",
          "data": {
            "text/plain": [
              "<Figure size 640x480 with 1 Axes>"
            ],
            "image/png": "[encoded data removed]"
          },
          "metadata": {}
        }
      ]
    },
    {
      "cell_type": "markdown",
      "source": [
        "# Explanation for prediction - 1\n",
        "\n",
        "\n",
        "\n",
        "\n",
        "\n",
        "Here, we can see that out model predicts that this is a Trouser (predicted label: class 1), but it is actually a pullover (true label: class 2). Intuitively, we can agree that the model might've made this mistake because the portion from X axis 7 to 20 (approximately) does have features of a trouser."
      ],
      "metadata": {
        "id": "aZQl_oohX2jZ"
      }
    },
    {
      "cell_type": "code",
      "source": [
        "plt.imshow(images[3].squeeze().cpu(), cmap=plt.cm.gray)\n",
        "plt.title(f'Pred: {predicted_classes[3].item()}, True: {labels[3].item()}')"
      ],
      "metadata": {
        "colab": {
          "base_uri": "https://localhost:8080/",
          "height": 469
        },
        "id": "dto92j4_XPj5",
        "outputId": "77cb22ce-8bc2-4ed6-ac6c-3e9a7f465455"
      },
      "execution_count": null,
      "outputs": [
        {
          "output_type": "execute_result",
          "data": {
            "text/plain": [
              "Text(0.5, 1.0, 'Pred: 5, True: 5')"
            ]
          },
          "metadata": {},
          "execution_count": 38
        },
        {
          "output_type": "display_data",
          "data": {
            "text/plain": [
              "<Figure size 640x480 with 1 Axes>"
            ],
            "image/png": "[encoded data removed]"
          },
          "metadata": {}
        }
      ]
    },
    {
      "cell_type": "markdown",
      "source": [
        "# Explanation for prediction - 2\n",
        "\n",
        "\n",
        "\n",
        "\n",
        "\n",
        "Here, we can see that out model predicts that this is a Sandal (predicted label: class 5), and it is actually a Sandal (true label: class 5). In this case, our model did a good job."
      ],
      "metadata": {
        "id": "eKX1nQBEYTtR"
      }
    },
    {
      "cell_type": "markdown",
      "source": [],
      "metadata": {
        "id": "sxO-vItpYRUa"
      }
    },
    {
      "cell_type": "code",
      "source": [
        "plt.imshow(images[10].squeeze().cpu(), cmap=plt.cm.gray)\n",
        "plt.title(f'Pred: {predicted_classes[10].item()}, True: {labels[10].item()}')"
      ],
      "metadata": {
        "colab": {
          "base_uri": "https://localhost:8080/",
          "height": 469
        },
        "id": "1fSZSunMXYsO",
        "outputId": "71a9be95-8c74-4c7a-daf3-85b64a55cdcc"
      },
      "execution_count": null,
      "outputs": [
        {
          "output_type": "execute_result",
          "data": {
            "text/plain": [
              "Text(0.5, 1.0, 'Pred: 1, True: 1')"
            ]
          },
          "metadata": {},
          "execution_count": 39
        },
        {
          "output_type": "display_data",
          "data": {
            "text/plain": [
              "<Figure size 640x480 with 1 Axes>"
            ],
            "image/png": "[encoded data removed]"
          },
          "metadata": {}
        }
      ]
    },
    {
      "cell_type": "markdown",
      "source": [
        "# Explanation for prediction - 3\n",
        "\n",
        "\n",
        "\n",
        "\n",
        "\n",
        "Here, we can see that out model predicts that this is a Trouser (predicted label: class 1), and it is actually a Trouser (true label: class 1). In this case too, our model did a good job."
      ],
      "metadata": {
        "id": "OGM8gTV7YoFc"
      }
    },
    {
      "cell_type": "markdown",
      "source": [
        "--------------"
      ],
      "metadata": {
        "id": "_ma5Lh7FSmk1"
      }
    },
    {
      "cell_type": "markdown",
      "source": [
        "--------------"
      ],
      "metadata": {
        "id": "WzhpRJ_7SrNN"
      }
    },
    {
      "cell_type": "markdown",
      "source": [
        "--------------"
      ],
      "metadata": {
        "id": "eqU_c6JSSx3O"
      }
    },
    {
      "cell_type": "markdown",
      "source": [
        "--------------"
      ],
      "metadata": {
        "id": "NP-nQj56SyQS"
      }
    },
    {
      "cell_type": "markdown",
      "source": [
        "--------------"
      ],
      "metadata": {
        "id": "qF9q8S2dSyXk"
      }
    },
    {
      "cell_type": "markdown",
      "source": [
        "--------------"
      ],
      "metadata": {
        "id": "pJKuEq5HSyd-"
      }
    },
    {
      "cell_type": "markdown",
      "source": [
        "--------------"
      ],
      "metadata": {
        "id": "sHfS6OJBSynn"
      }
    },
    {
      "cell_type": "markdown",
      "source": [
        "--------------"
      ],
      "metadata": {
        "id": "lXEgoeEFSrlc"
      }
    },
    {
      "cell_type": "markdown",
      "source": [
        "--------------"
      ],
      "metadata": {
        "id": "WQpVxerlSryJ"
      }
    },
    {
      "cell_type": "markdown",
      "source": [
        "--------------"
      ],
      "metadata": {
        "id": "uqLlBYBoSr_t"
      }
    }
  ]
}